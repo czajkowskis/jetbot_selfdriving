{
  "cells": [
    {
      "cell_type": "code",
      "execution_count": null,
      "metadata": {
        "id": "TgtAQOeyMu4x"
      },
      "outputs": [
        {
          "ename": "",
          "evalue": "",
          "output_type": "error",
          "traceback": [
            "\u001b[1;31mThe kernel failed to start as the Python Environment 'Python' is no longer available. Consider selecting another kernel or refreshing the list of Python Environments."
          ]
        }
      ],
      "source": [
        "import os\n",
        "import re\n",
        "import pandas as pd\n",
        "from PIL import Image\n",
        "import numpy as np\n",
        "import cv2\n",
        "import torch\n",
        "import torch.nn as nn\n",
        "import torch.optim as optim\n",
        "from tqdm import tqdm\n",
        "from torch.utils.data import Dataset, DataLoader\n",
        "from torchvision import models, transforms\n",
        "from sklearn.model_selection import train_test_split\n",
        "from torch.cuda.amp import GradScaler, autocast"
      ]
    },
    {
      "cell_type": "code",
      "execution_count": null,
      "metadata": {
        "id": "cLZGYb59MzTg"
      },
      "outputs": [],
      "source": [
        "# Define models\n",
        "models_dict = {\n",
        "    \"MobileNetV3S\": models.mobilenet_v3_small(weights=None),\n",
        "    \"ShuffleNetV2\": models.shufflenet_v2_x1_0(weights=None),\n",
        "    \"MobileNetV2\": models.mobilenet_v2(weights=None),\n",
        "    \"ResNet18\": models.resnet18(weights=None),\n",
        "    \"SqueezeNet\": models.squeezenet1_0(weights=None),\n",
        "}\n"
      ]
    },
    {
      "cell_type": "code",
      "execution_count": null,
      "metadata": {
        "id": "DUFPZkwJM1_I"
      },
      "outputs": [],
      "source": [
        "# Training and evaluation\n",
        "dataset_path = \"./dataset\"\n",
        "augment_data = False\n",
        "num_epochs = 100\n",
        "batch_size = 128\n",
        "learning_rate = 0.001\n",
        "criterion = nn.MSELoss()\n",
        "\n",
        "device = torch.device(\"cuda\" if torch.cuda.is_available() else \"cpu\")\n",
        "device"
      ]
    },
    {
      "cell_type": "code",
      "execution_count": null,
      "metadata": {
        "id": "a38BWU-PM6cg"
      },
      "outputs": [],
      "source": [
        "# Define the augmentations\n",
        "augmentations = {\n",
        "    \"brightness\": transforms.Compose(\n",
        "        [\n",
        "            transforms.ColorJitter(brightness=0.5),\n",
        "            transforms.ToTensor(),\n",
        "            transforms.ToPILImage(),\n",
        "        ]\n",
        "    ),\n",
        "    \"contrast\": transforms.Compose(\n",
        "        [\n",
        "            transforms.ColorJitter(contrast=0.5),\n",
        "            transforms.ToTensor(),\n",
        "            transforms.ToPILImage(),\n",
        "        ]\n",
        "    ),\n",
        "    \"saturation\": transforms.Compose(\n",
        "        [\n",
        "            transforms.ColorJitter(saturation=0.5),\n",
        "            transforms.ToTensor(),\n",
        "            transforms.ToPILImage(),\n",
        "        ]\n",
        "    ),\n",
        "    \"hue\": transforms.Compose(\n",
        "        [\n",
        "            transforms.ColorJitter(hue=0.5),\n",
        "            transforms.ToTensor(),\n",
        "            transforms.ToPILImage(),\n",
        "        ]\n",
        "    ),\n",
        "}\n"
      ]
    },
    {
      "cell_type": "code",
      "execution_count": null,
      "metadata": {
        "id": "ZnlpfVfPM9GC"
      },
      "outputs": [],
      "source": [
        "dirs = [\n",
        "    d for d in os.listdir(dataset_path) if os.path.isdir(os.path.join(dataset_path, d))\n",
        "]\n",
        "\n",
        "if augment_data:\n",
        "    for dir in dirs:\n",
        "        files = os.listdir(os.path.join(dataset_path, dir))\n",
        "\n",
        "        for file_name in tqdm(files, desc=f\"Processing {dir}\"):\n",
        "            file_path = os.path.join(dataset_path, dir, file_name)\n",
        "            photo_id = re.search(r\"\\d+\", file_name).group()\n",
        "\n",
        "            if file_name != f\"{photo_id}.jpg\":\n",
        "                continue\n",
        "\n",
        "            image = Image.open(file_path).convert(\"RGB\")\n",
        "\n",
        "            for name, augmentation in augmentations.items():\n",
        "                augmented_image = augmentation(image)\n",
        "                augmented_image = np.array(augmented_image)\n",
        "                augmented_image = cv2.cvtColor(augmented_image, cv2.COLOR_RGB2BGR)\n",
        "                save_path = os.path.join(dataset_path, dir, f\"{photo_id}_{name}.jpg\")\n",
        "                cv2.imwrite(save_path, augmented_image)\n",
        "\n",
        "#"
      ]
    },
    {
      "cell_type": "code",
      "execution_count": null,
      "metadata": {
        "id": "A_t5w2AsNB8u"
      },
      "outputs": [],
      "source": [
        "# Custom Dataset Class\n",
        "class JetBotDataset(Dataset):\n",
        "    def __init__(self, target_map, transform=None):\n",
        "        self.target_map = target_map\n",
        "        self.transform = transform\n",
        "\n",
        "    def __len__(self):\n",
        "        return len(self.target_map)\n",
        "\n",
        "    def __getitem__(self, idx):\n",
        "        img_path, target = self.target_map[idx]\n",
        "        image = Image.open(img_path).convert(\"RGB\")\n",
        "        if self.transform:\n",
        "            image = self.transform(image)\n",
        "        target = torch.tensor(target, dtype=torch.float32)\n",
        "        return image, target"
      ]
    },
    {
      "cell_type": "code",
      "execution_count": null,
      "metadata": {
        "id": "MthDkZi-NCuZ"
      },
      "outputs": [],
      "source": [
        "def get_target(path, dirs):\n",
        "    result = []\n",
        "    for dir in dirs:\n",
        "        labels = pd.read_csv(\n",
        "            f\"{path}/{dir}.csv\", header=None, index_col=0, names=[\"speed\", \"turn\"]\n",
        "        )\n",
        "        for file_name in os.listdir(os.path.join(path, dir)):\n",
        "            file_path = os.path.join(path, dir, file_name)\n",
        "            photo_id = int(re.search(r\"\\d+\", file_name).group())\n",
        "            if photo_id in labels.index:\n",
        "                target = labels.loc[photo_id]\n",
        "                result.append((file_path, (target[\"speed\"], target[\"turn\"])))\n",
        "    return result"
      ]
    },
    {
      "cell_type": "code",
      "execution_count": null,
      "metadata": {
        "id": "PqRmni1gOflU"
      },
      "outputs": [],
      "source": [
        "target_map = get_target(dataset_path, dirs)\n",
        "train_data, test_data = train_test_split(target_map, test_size=0.2, random_state=42)\n",
        "\n",
        "transform = transforms.Compose(\n",
        "    [\n",
        "        transforms.Resize((224, 224)),\n",
        "        transforms.ToTensor(),\n",
        "        transforms.Normalize(mean=[0.485, 0.456, 0.406], std=[0.229, 0.224, 0.225]),\n",
        "    ]\n",
        ")\n",
        "\n",
        "train_dataset = JetBotDataset(train_data, transform=transform)\n",
        "test_dataset = JetBotDataset(test_data, transform=transform)\n",
        "train_loader = DataLoader(train_dataset, batch_size=batch_size, shuffle=True)\n",
        "test_loader = DataLoader(test_dataset, batch_size=batch_size, shuffle=False)"
      ]
    }
  ],
  "metadata": {
    "colab": {
      "provenance": []
    },
    "kernelspec": {
      "display_name": "base",
      "language": "python",
      "name": "python3"
    },
    "language_info": {
      "codemirror_mode": {
        "name": "ipython",
        "version": 3
      },
      "file_extension": ".py",
      "mimetype": "text/x-python",
      "name": "python",
      "nbconvert_exporter": "python",
      "pygments_lexer": "ipython3",
      "version": "3.11.2"
    }
  },
  "nbformat": 4,
  "nbformat_minor": 0
}
